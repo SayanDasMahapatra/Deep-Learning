{
 "cells": [
  {
   "cell_type": "code",
   "execution_count": 43,
   "id": "231ec579",
   "metadata": {
    "_cell_guid": "b1076dfc-b9ad-4769-8c92-a6c4dae69d19",
    "_uuid": "8f2839f25d086af736a60e9eeb907d3b93b6e0e5",
    "editable": false,
    "execution": {
     "iopub.execute_input": "2023-10-11T02:06:18.194425Z",
     "iopub.status.busy": "2023-10-11T02:06:18.193629Z",
     "iopub.status.idle": "2023-10-11T02:06:19.943660Z",
     "shell.execute_reply": "2023-10-11T02:06:19.942625Z"
    },
    "papermill": {
     "duration": 1.76093,
     "end_time": "2023-10-11T02:06:19.945886",
     "exception": false,
     "start_time": "2023-10-11T02:06:18.184956",
     "status": "completed"
    },
    "tags": []
   },
   "outputs": [],
   "source": [
    "\n",
    "\n",
    "import numpy as np # linear algebra\n",
    "import pandas as pd # data processing, CSV file I/O (e.g. pd.read_csv)\n",
    "import matplotlib.pyplot as plt\n",
    "import seaborn as sns\n",
    "%matplotlib inline\n",
    "\n"
   ]
  },
  {
   "cell_type": "code",
   "execution_count": null,
   "id": "90746f17",
   "metadata": {},
   "outputs": [],
   "source": []
  },
  {
   "cell_type": "code",
   "execution_count": 44,
   "id": "4c200f96",
   "metadata": {
    "editable": false,
    "execution": {
     "iopub.execute_input": "2023-10-11T02:06:19.960852Z",
     "iopub.status.busy": "2023-10-11T02:06:19.960373Z",
     "iopub.status.idle": "2023-10-11T02:06:20.452826Z",
     "shell.execute_reply": "2023-10-11T02:06:20.451716Z"
    },
    "papermill": {
     "duration": 0.502801,
     "end_time": "2023-10-11T02:06:20.455354",
     "exception": false,
     "start_time": "2023-10-11T02:06:19.952553",
     "status": "completed"
    },
    "tags": []
   },
   "outputs": [],
   "source": [
    "df=pd.read_csv(r\"C:\\Users\\80971\\OneDrive\\Desktop\\OPencv\\AI\\weatherHistory.csv\")"
   ]
  },
  {
   "cell_type": "code",
   "execution_count": 45,
   "id": "31b218cc",
   "metadata": {
    "editable": false,
    "execution": {
     "iopub.execute_input": "2023-10-11T02:06:20.470244Z",
     "iopub.status.busy": "2023-10-11T02:06:20.469352Z",
     "iopub.status.idle": "2023-10-11T02:06:20.494937Z",
     "shell.execute_reply": "2023-10-11T02:06:20.493901Z"
    },
    "papermill": {
     "duration": 0.035075,
     "end_time": "2023-10-11T02:06:20.497010",
     "exception": false,
     "start_time": "2023-10-11T02:06:20.461935",
     "status": "completed"
    },
    "tags": []
   },
   "outputs": [
    {
     "data": {
      "text/html": [
       "<div>\n",
       "<style scoped>\n",
       "    .dataframe tbody tr th:only-of-type {\n",
       "        vertical-align: middle;\n",
       "    }\n",
       "\n",
       "    .dataframe tbody tr th {\n",
       "        vertical-align: top;\n",
       "    }\n",
       "\n",
       "    .dataframe thead th {\n",
       "        text-align: right;\n",
       "    }\n",
       "</style>\n",
       "<table border=\"1\" class=\"dataframe\">\n",
       "  <thead>\n",
       "    <tr style=\"text-align: right;\">\n",
       "      <th></th>\n",
       "      <th>Formatted Date</th>\n",
       "      <th>Summary</th>\n",
       "      <th>Precip Type</th>\n",
       "      <th>Temperature (C)</th>\n",
       "      <th>Apparent Temperature (C)</th>\n",
       "      <th>Humidity</th>\n",
       "      <th>Wind Speed (km/h)</th>\n",
       "      <th>Wind Bearing (degrees)</th>\n",
       "      <th>Visibility (km)</th>\n",
       "      <th>Loud Cover</th>\n",
       "      <th>Pressure (millibars)</th>\n",
       "      <th>Daily Summary</th>\n",
       "    </tr>\n",
       "  </thead>\n",
       "  <tbody>\n",
       "    <tr>\n",
       "      <th>0</th>\n",
       "      <td>2006-04-01 00:00:00.000 +0200</td>\n",
       "      <td>Partly Cloudy</td>\n",
       "      <td>rain</td>\n",
       "      <td>9.472222</td>\n",
       "      <td>7.388889</td>\n",
       "      <td>0.89</td>\n",
       "      <td>14.1197</td>\n",
       "      <td>251.0</td>\n",
       "      <td>15.8263</td>\n",
       "      <td>0.0</td>\n",
       "      <td>1015.13</td>\n",
       "      <td>Partly cloudy throughout the day.</td>\n",
       "    </tr>\n",
       "    <tr>\n",
       "      <th>1</th>\n",
       "      <td>2006-04-01 01:00:00.000 +0200</td>\n",
       "      <td>Partly Cloudy</td>\n",
       "      <td>rain</td>\n",
       "      <td>9.355556</td>\n",
       "      <td>7.227778</td>\n",
       "      <td>0.86</td>\n",
       "      <td>14.2646</td>\n",
       "      <td>259.0</td>\n",
       "      <td>15.8263</td>\n",
       "      <td>0.0</td>\n",
       "      <td>1015.63</td>\n",
       "      <td>Partly cloudy throughout the day.</td>\n",
       "    </tr>\n",
       "    <tr>\n",
       "      <th>2</th>\n",
       "      <td>2006-04-01 02:00:00.000 +0200</td>\n",
       "      <td>Mostly Cloudy</td>\n",
       "      <td>rain</td>\n",
       "      <td>9.377778</td>\n",
       "      <td>9.377778</td>\n",
       "      <td>0.89</td>\n",
       "      <td>3.9284</td>\n",
       "      <td>204.0</td>\n",
       "      <td>14.9569</td>\n",
       "      <td>0.0</td>\n",
       "      <td>1015.94</td>\n",
       "      <td>Partly cloudy throughout the day.</td>\n",
       "    </tr>\n",
       "    <tr>\n",
       "      <th>3</th>\n",
       "      <td>2006-04-01 03:00:00.000 +0200</td>\n",
       "      <td>Partly Cloudy</td>\n",
       "      <td>rain</td>\n",
       "      <td>8.288889</td>\n",
       "      <td>5.944444</td>\n",
       "      <td>0.83</td>\n",
       "      <td>14.1036</td>\n",
       "      <td>269.0</td>\n",
       "      <td>15.8263</td>\n",
       "      <td>0.0</td>\n",
       "      <td>1016.41</td>\n",
       "      <td>Partly cloudy throughout the day.</td>\n",
       "    </tr>\n",
       "    <tr>\n",
       "      <th>4</th>\n",
       "      <td>2006-04-01 04:00:00.000 +0200</td>\n",
       "      <td>Mostly Cloudy</td>\n",
       "      <td>rain</td>\n",
       "      <td>8.755556</td>\n",
       "      <td>6.977778</td>\n",
       "      <td>0.83</td>\n",
       "      <td>11.0446</td>\n",
       "      <td>259.0</td>\n",
       "      <td>15.8263</td>\n",
       "      <td>0.0</td>\n",
       "      <td>1016.51</td>\n",
       "      <td>Partly cloudy throughout the day.</td>\n",
       "    </tr>\n",
       "  </tbody>\n",
       "</table>\n",
       "</div>"
      ],
      "text/plain": [
       "                  Formatted Date        Summary Precip Type  Temperature (C)  \\\n",
       "0  2006-04-01 00:00:00.000 +0200  Partly Cloudy        rain         9.472222   \n",
       "1  2006-04-01 01:00:00.000 +0200  Partly Cloudy        rain         9.355556   \n",
       "2  2006-04-01 02:00:00.000 +0200  Mostly Cloudy        rain         9.377778   \n",
       "3  2006-04-01 03:00:00.000 +0200  Partly Cloudy        rain         8.288889   \n",
       "4  2006-04-01 04:00:00.000 +0200  Mostly Cloudy        rain         8.755556   \n",
       "\n",
       "   Apparent Temperature (C)  Humidity  Wind Speed (km/h)  \\\n",
       "0                  7.388889      0.89            14.1197   \n",
       "1                  7.227778      0.86            14.2646   \n",
       "2                  9.377778      0.89             3.9284   \n",
       "3                  5.944444      0.83            14.1036   \n",
       "4                  6.977778      0.83            11.0446   \n",
       "\n",
       "   Wind Bearing (degrees)  Visibility (km)  Loud Cover  Pressure (millibars)  \\\n",
       "0                   251.0          15.8263         0.0               1015.13   \n",
       "1                   259.0          15.8263         0.0               1015.63   \n",
       "2                   204.0          14.9569         0.0               1015.94   \n",
       "3                   269.0          15.8263         0.0               1016.41   \n",
       "4                   259.0          15.8263         0.0               1016.51   \n",
       "\n",
       "                       Daily Summary  \n",
       "0  Partly cloudy throughout the day.  \n",
       "1  Partly cloudy throughout the day.  \n",
       "2  Partly cloudy throughout the day.  \n",
       "3  Partly cloudy throughout the day.  \n",
       "4  Partly cloudy throughout the day.  "
      ]
     },
     "execution_count": 45,
     "metadata": {},
     "output_type": "execute_result"
    }
   ],
   "source": [
    "df.head(5)"
   ]
  },
  {
   "cell_type": "code",
   "execution_count": 46,
   "id": "942ca0e2",
   "metadata": {
    "editable": false,
    "execution": {
     "iopub.execute_input": "2023-10-11T02:06:20.511927Z",
     "iopub.status.busy": "2023-10-11T02:06:20.511384Z",
     "iopub.status.idle": "2023-10-11T02:06:20.557445Z",
     "shell.execute_reply": "2023-10-11T02:06:20.556340Z"
    },
    "papermill": {
     "duration": 0.056164,
     "end_time": "2023-10-11T02:06:20.559721",
     "exception": false,
     "start_time": "2023-10-11T02:06:20.503557",
     "status": "completed"
    },
    "tags": []
   },
   "outputs": [
    {
     "name": "stdout",
     "output_type": "stream",
     "text": [
      "<class 'pandas.core.frame.DataFrame'>\n",
      "RangeIndex: 96453 entries, 0 to 96452\n",
      "Data columns (total 12 columns):\n",
      " #   Column                    Non-Null Count  Dtype  \n",
      "---  ------                    --------------  -----  \n",
      " 0   Formatted Date            96453 non-null  object \n",
      " 1   Summary                   96453 non-null  object \n",
      " 2   Precip Type               95936 non-null  object \n",
      " 3   Temperature (C)           96453 non-null  float64\n",
      " 4   Apparent Temperature (C)  96453 non-null  float64\n",
      " 5   Humidity                  96453 non-null  float64\n",
      " 6   Wind Speed (km/h)         96453 non-null  float64\n",
      " 7   Wind Bearing (degrees)    96453 non-null  float64\n",
      " 8   Visibility (km)           96453 non-null  float64\n",
      " 9   Loud Cover                96453 non-null  float64\n",
      " 10  Pressure (millibars)      96453 non-null  float64\n",
      " 11  Daily Summary             96453 non-null  object \n",
      "dtypes: float64(8), object(4)\n",
      "memory usage: 8.8+ MB\n"
     ]
    }
   ],
   "source": [
    "df.info()"
   ]
  },
  {
   "cell_type": "code",
   "execution_count": 47,
   "id": "0b05bf16",
   "metadata": {
    "editable": false,
    "execution": {
     "iopub.execute_input": "2023-10-11T02:06:20.575076Z",
     "iopub.status.busy": "2023-10-11T02:06:20.574262Z",
     "iopub.status.idle": "2023-10-11T02:06:20.636191Z",
     "shell.execute_reply": "2023-10-11T02:06:20.635153Z"
    },
    "papermill": {
     "duration": 0.071929,
     "end_time": "2023-10-11T02:06:20.638420",
     "exception": false,
     "start_time": "2023-10-11T02:06:20.566491",
     "status": "completed"
    },
    "tags": []
   },
   "outputs": [
    {
     "data": {
      "text/html": [
       "<div>\n",
       "<style scoped>\n",
       "    .dataframe tbody tr th:only-of-type {\n",
       "        vertical-align: middle;\n",
       "    }\n",
       "\n",
       "    .dataframe tbody tr th {\n",
       "        vertical-align: top;\n",
       "    }\n",
       "\n",
       "    .dataframe thead th {\n",
       "        text-align: right;\n",
       "    }\n",
       "</style>\n",
       "<table border=\"1\" class=\"dataframe\">\n",
       "  <thead>\n",
       "    <tr style=\"text-align: right;\">\n",
       "      <th></th>\n",
       "      <th>Temperature (C)</th>\n",
       "      <th>Apparent Temperature (C)</th>\n",
       "      <th>Humidity</th>\n",
       "      <th>Wind Speed (km/h)</th>\n",
       "      <th>Wind Bearing (degrees)</th>\n",
       "      <th>Visibility (km)</th>\n",
       "      <th>Loud Cover</th>\n",
       "      <th>Pressure (millibars)</th>\n",
       "    </tr>\n",
       "  </thead>\n",
       "  <tbody>\n",
       "    <tr>\n",
       "      <th>count</th>\n",
       "      <td>96453.000000</td>\n",
       "      <td>96453.000000</td>\n",
       "      <td>96453.000000</td>\n",
       "      <td>96453.000000</td>\n",
       "      <td>96453.000000</td>\n",
       "      <td>96453.000000</td>\n",
       "      <td>96453.0</td>\n",
       "      <td>96453.000000</td>\n",
       "    </tr>\n",
       "    <tr>\n",
       "      <th>mean</th>\n",
       "      <td>11.932678</td>\n",
       "      <td>10.855029</td>\n",
       "      <td>0.734899</td>\n",
       "      <td>10.810640</td>\n",
       "      <td>187.509232</td>\n",
       "      <td>10.347325</td>\n",
       "      <td>0.0</td>\n",
       "      <td>1003.235956</td>\n",
       "    </tr>\n",
       "    <tr>\n",
       "      <th>std</th>\n",
       "      <td>9.551546</td>\n",
       "      <td>10.696847</td>\n",
       "      <td>0.195473</td>\n",
       "      <td>6.913571</td>\n",
       "      <td>107.383428</td>\n",
       "      <td>4.192123</td>\n",
       "      <td>0.0</td>\n",
       "      <td>116.969906</td>\n",
       "    </tr>\n",
       "    <tr>\n",
       "      <th>min</th>\n",
       "      <td>-21.822222</td>\n",
       "      <td>-27.716667</td>\n",
       "      <td>0.000000</td>\n",
       "      <td>0.000000</td>\n",
       "      <td>0.000000</td>\n",
       "      <td>0.000000</td>\n",
       "      <td>0.0</td>\n",
       "      <td>0.000000</td>\n",
       "    </tr>\n",
       "    <tr>\n",
       "      <th>25%</th>\n",
       "      <td>4.688889</td>\n",
       "      <td>2.311111</td>\n",
       "      <td>0.600000</td>\n",
       "      <td>5.828200</td>\n",
       "      <td>116.000000</td>\n",
       "      <td>8.339800</td>\n",
       "      <td>0.0</td>\n",
       "      <td>1011.900000</td>\n",
       "    </tr>\n",
       "    <tr>\n",
       "      <th>50%</th>\n",
       "      <td>12.000000</td>\n",
       "      <td>12.000000</td>\n",
       "      <td>0.780000</td>\n",
       "      <td>9.965900</td>\n",
       "      <td>180.000000</td>\n",
       "      <td>10.046400</td>\n",
       "      <td>0.0</td>\n",
       "      <td>1016.450000</td>\n",
       "    </tr>\n",
       "    <tr>\n",
       "      <th>75%</th>\n",
       "      <td>18.838889</td>\n",
       "      <td>18.838889</td>\n",
       "      <td>0.890000</td>\n",
       "      <td>14.135800</td>\n",
       "      <td>290.000000</td>\n",
       "      <td>14.812000</td>\n",
       "      <td>0.0</td>\n",
       "      <td>1021.090000</td>\n",
       "    </tr>\n",
       "    <tr>\n",
       "      <th>max</th>\n",
       "      <td>39.905556</td>\n",
       "      <td>39.344444</td>\n",
       "      <td>1.000000</td>\n",
       "      <td>63.852600</td>\n",
       "      <td>359.000000</td>\n",
       "      <td>16.100000</td>\n",
       "      <td>0.0</td>\n",
       "      <td>1046.380000</td>\n",
       "    </tr>\n",
       "  </tbody>\n",
       "</table>\n",
       "</div>"
      ],
      "text/plain": [
       "       Temperature (C)  Apparent Temperature (C)      Humidity  \\\n",
       "count     96453.000000              96453.000000  96453.000000   \n",
       "mean         11.932678                 10.855029      0.734899   \n",
       "std           9.551546                 10.696847      0.195473   \n",
       "min         -21.822222                -27.716667      0.000000   \n",
       "25%           4.688889                  2.311111      0.600000   \n",
       "50%          12.000000                 12.000000      0.780000   \n",
       "75%          18.838889                 18.838889      0.890000   \n",
       "max          39.905556                 39.344444      1.000000   \n",
       "\n",
       "       Wind Speed (km/h)  Wind Bearing (degrees)  Visibility (km)  Loud Cover  \\\n",
       "count       96453.000000            96453.000000     96453.000000     96453.0   \n",
       "mean           10.810640              187.509232        10.347325         0.0   \n",
       "std             6.913571              107.383428         4.192123         0.0   \n",
       "min             0.000000                0.000000         0.000000         0.0   \n",
       "25%             5.828200              116.000000         8.339800         0.0   \n",
       "50%             9.965900              180.000000        10.046400         0.0   \n",
       "75%            14.135800              290.000000        14.812000         0.0   \n",
       "max            63.852600              359.000000        16.100000         0.0   \n",
       "\n",
       "       Pressure (millibars)  \n",
       "count          96453.000000  \n",
       "mean            1003.235956  \n",
       "std              116.969906  \n",
       "min                0.000000  \n",
       "25%             1011.900000  \n",
       "50%             1016.450000  \n",
       "75%             1021.090000  \n",
       "max             1046.380000  "
      ]
     },
     "execution_count": 47,
     "metadata": {},
     "output_type": "execute_result"
    }
   ],
   "source": [
    "df.describe()"
   ]
  },
  {
   "cell_type": "code",
   "execution_count": 48,
   "id": "0e51d953",
   "metadata": {
    "editable": false,
    "execution": {
     "iopub.execute_input": "2023-10-11T02:06:20.654016Z",
     "iopub.status.busy": "2023-10-11T02:06:20.653695Z",
     "iopub.status.idle": "2023-10-11T02:06:20.680800Z",
     "shell.execute_reply": "2023-10-11T02:06:20.679708Z"
    },
    "papermill": {
     "duration": 0.037496,
     "end_time": "2023-10-11T02:06:20.682915",
     "exception": false,
     "start_time": "2023-10-11T02:06:20.645419",
     "status": "completed"
    },
    "tags": []
   },
   "outputs": [
    {
     "data": {
      "text/plain": [
       "Formatted Date              0.00\n",
       "Summary                     0.00\n",
       "Precip Type                 5.17\n",
       "Temperature (C)             0.00\n",
       "Apparent Temperature (C)    0.00\n",
       "Humidity                    0.00\n",
       "Wind Speed (km/h)           0.00\n",
       "Wind Bearing (degrees)      0.00\n",
       "Visibility (km)             0.00\n",
       "Loud Cover                  0.00\n",
       "Pressure (millibars)        0.00\n",
       "Daily Summary               0.00\n",
       "dtype: float64"
      ]
     },
     "execution_count": 48,
     "metadata": {},
     "output_type": "execute_result"
    }
   ],
   "source": [
    "df.isna().sum()/100"
   ]
  },
  {
   "cell_type": "code",
   "execution_count": 49,
   "id": "6821f99c",
   "metadata": {
    "editable": false,
    "execution": {
     "iopub.execute_input": "2023-10-11T02:06:20.698690Z",
     "iopub.status.busy": "2023-10-11T02:06:20.698370Z",
     "iopub.status.idle": "2023-10-11T02:06:20.708755Z",
     "shell.execute_reply": "2023-10-11T02:06:20.707803Z"
    },
    "papermill": {
     "duration": 0.020473,
     "end_time": "2023-10-11T02:06:20.710597",
     "exception": false,
     "start_time": "2023-10-11T02:06:20.690124",
     "status": "completed"
    },
    "tags": []
   },
   "outputs": [
    {
     "data": {
      "text/plain": [
       "array(['rain', 'snow', nan], dtype=object)"
      ]
     },
     "execution_count": 49,
     "metadata": {},
     "output_type": "execute_result"
    }
   ],
   "source": [
    "df['Precip Type'].unique()"
   ]
  },
  {
   "cell_type": "code",
   "execution_count": 50,
   "id": "39409990",
   "metadata": {
    "editable": false,
    "execution": {
     "iopub.execute_input": "2023-10-11T02:06:20.727018Z",
     "iopub.status.busy": "2023-10-11T02:06:20.726077Z",
     "iopub.status.idle": "2023-10-11T02:06:20.737973Z",
     "shell.execute_reply": "2023-10-11T02:06:20.737258Z"
    },
    "papermill": {
     "duration": 0.022219,
     "end_time": "2023-10-11T02:06:20.739983",
     "exception": false,
     "start_time": "2023-10-11T02:06:20.717764",
     "status": "completed"
    },
    "tags": []
   },
   "outputs": [],
   "source": [
    "df['Precip Type']=df['Precip Type'].fillna(\"NA\")"
   ]
  },
  {
   "cell_type": "code",
   "execution_count": 51,
   "id": "d59d410c",
   "metadata": {
    "editable": false,
    "execution": {
     "iopub.execute_input": "2023-10-11T02:06:20.757064Z",
     "iopub.status.busy": "2023-10-11T02:06:20.756181Z",
     "iopub.status.idle": "2023-10-11T02:06:20.782465Z",
     "shell.execute_reply": "2023-10-11T02:06:20.781493Z"
    },
    "papermill": {
     "duration": 0.036797,
     "end_time": "2023-10-11T02:06:20.784519",
     "exception": false,
     "start_time": "2023-10-11T02:06:20.747722",
     "status": "completed"
    },
    "tags": []
   },
   "outputs": [
    {
     "data": {
      "text/plain": [
       "Formatted Date              0\n",
       "Summary                     0\n",
       "Precip Type                 0\n",
       "Temperature (C)             0\n",
       "Apparent Temperature (C)    0\n",
       "Humidity                    0\n",
       "Wind Speed (km/h)           0\n",
       "Wind Bearing (degrees)      0\n",
       "Visibility (km)             0\n",
       "Loud Cover                  0\n",
       "Pressure (millibars)        0\n",
       "Daily Summary               0\n",
       "dtype: int64"
      ]
     },
     "execution_count": 51,
     "metadata": {},
     "output_type": "execute_result"
    }
   ],
   "source": [
    "df.isna().sum()"
   ]
  },
  {
   "cell_type": "code",
   "execution_count": 52,
   "id": "c4c64c25",
   "metadata": {
    "editable": false,
    "execution": {
     "iopub.execute_input": "2023-10-11T02:06:20.800361Z",
     "iopub.status.busy": "2023-10-11T02:06:20.799994Z",
     "iopub.status.idle": "2023-10-11T02:06:20.994341Z",
     "shell.execute_reply": "2023-10-11T02:06:20.993186Z"
    },
    "papermill": {
     "duration": 0.205081,
     "end_time": "2023-10-11T02:06:20.996834",
     "exception": false,
     "start_time": "2023-10-11T02:06:20.791753",
     "status": "completed"
    },
    "tags": []
   },
   "outputs": [],
   "source": [
    "from sklearn.preprocessing import LabelEncoder\n",
    "le = LabelEncoder()\n",
    "df['Summary'] = le.fit_transform(df['Summary'])\n",
    "df['Precip Type'] = le.fit_transform(df['Precip Type'])"
   ]
  },
  {
   "cell_type": "code",
   "execution_count": 53,
   "id": "eab6cdd1",
   "metadata": {
    "editable": false,
    "execution": {
     "iopub.execute_input": "2023-10-11T02:06:21.013640Z",
     "iopub.status.busy": "2023-10-11T02:06:21.013268Z",
     "iopub.status.idle": "2023-10-11T02:06:21.028736Z",
     "shell.execute_reply": "2023-10-11T02:06:21.027755Z"
    },
    "papermill": {
     "duration": 0.02632,
     "end_time": "2023-10-11T02:06:21.030763",
     "exception": false,
     "start_time": "2023-10-11T02:06:21.004443",
     "status": "completed"
    },
    "tags": []
   },
   "outputs": [
    {
     "data": {
      "text/html": [
       "<div>\n",
       "<style scoped>\n",
       "    .dataframe tbody tr th:only-of-type {\n",
       "        vertical-align: middle;\n",
       "    }\n",
       "\n",
       "    .dataframe tbody tr th {\n",
       "        vertical-align: top;\n",
       "    }\n",
       "\n",
       "    .dataframe thead th {\n",
       "        text-align: right;\n",
       "    }\n",
       "</style>\n",
       "<table border=\"1\" class=\"dataframe\">\n",
       "  <thead>\n",
       "    <tr style=\"text-align: right;\">\n",
       "      <th></th>\n",
       "      <th>Formatted Date</th>\n",
       "      <th>Summary</th>\n",
       "      <th>Precip Type</th>\n",
       "      <th>Temperature (C)</th>\n",
       "      <th>Apparent Temperature (C)</th>\n",
       "      <th>Humidity</th>\n",
       "      <th>Wind Speed (km/h)</th>\n",
       "      <th>Wind Bearing (degrees)</th>\n",
       "      <th>Visibility (km)</th>\n",
       "      <th>Loud Cover</th>\n",
       "      <th>Pressure (millibars)</th>\n",
       "      <th>Daily Summary</th>\n",
       "    </tr>\n",
       "  </thead>\n",
       "  <tbody>\n",
       "    <tr>\n",
       "      <th>0</th>\n",
       "      <td>2006-04-01 00:00:00.000 +0200</td>\n",
       "      <td>19</td>\n",
       "      <td>1</td>\n",
       "      <td>9.472222</td>\n",
       "      <td>7.388889</td>\n",
       "      <td>0.89</td>\n",
       "      <td>14.1197</td>\n",
       "      <td>251.0</td>\n",
       "      <td>15.8263</td>\n",
       "      <td>0.0</td>\n",
       "      <td>1015.13</td>\n",
       "      <td>Partly cloudy throughout the day.</td>\n",
       "    </tr>\n",
       "    <tr>\n",
       "      <th>1</th>\n",
       "      <td>2006-04-01 01:00:00.000 +0200</td>\n",
       "      <td>19</td>\n",
       "      <td>1</td>\n",
       "      <td>9.355556</td>\n",
       "      <td>7.227778</td>\n",
       "      <td>0.86</td>\n",
       "      <td>14.2646</td>\n",
       "      <td>259.0</td>\n",
       "      <td>15.8263</td>\n",
       "      <td>0.0</td>\n",
       "      <td>1015.63</td>\n",
       "      <td>Partly cloudy throughout the day.</td>\n",
       "    </tr>\n",
       "    <tr>\n",
       "      <th>2</th>\n",
       "      <td>2006-04-01 02:00:00.000 +0200</td>\n",
       "      <td>17</td>\n",
       "      <td>1</td>\n",
       "      <td>9.377778</td>\n",
       "      <td>9.377778</td>\n",
       "      <td>0.89</td>\n",
       "      <td>3.9284</td>\n",
       "      <td>204.0</td>\n",
       "      <td>14.9569</td>\n",
       "      <td>0.0</td>\n",
       "      <td>1015.94</td>\n",
       "      <td>Partly cloudy throughout the day.</td>\n",
       "    </tr>\n",
       "    <tr>\n",
       "      <th>3</th>\n",
       "      <td>2006-04-01 03:00:00.000 +0200</td>\n",
       "      <td>19</td>\n",
       "      <td>1</td>\n",
       "      <td>8.288889</td>\n",
       "      <td>5.944444</td>\n",
       "      <td>0.83</td>\n",
       "      <td>14.1036</td>\n",
       "      <td>269.0</td>\n",
       "      <td>15.8263</td>\n",
       "      <td>0.0</td>\n",
       "      <td>1016.41</td>\n",
       "      <td>Partly cloudy throughout the day.</td>\n",
       "    </tr>\n",
       "    <tr>\n",
       "      <th>4</th>\n",
       "      <td>2006-04-01 04:00:00.000 +0200</td>\n",
       "      <td>17</td>\n",
       "      <td>1</td>\n",
       "      <td>8.755556</td>\n",
       "      <td>6.977778</td>\n",
       "      <td>0.83</td>\n",
       "      <td>11.0446</td>\n",
       "      <td>259.0</td>\n",
       "      <td>15.8263</td>\n",
       "      <td>0.0</td>\n",
       "      <td>1016.51</td>\n",
       "      <td>Partly cloudy throughout the day.</td>\n",
       "    </tr>\n",
       "  </tbody>\n",
       "</table>\n",
       "</div>"
      ],
      "text/plain": [
       "                  Formatted Date  Summary  Precip Type  Temperature (C)  \\\n",
       "0  2006-04-01 00:00:00.000 +0200       19            1         9.472222   \n",
       "1  2006-04-01 01:00:00.000 +0200       19            1         9.355556   \n",
       "2  2006-04-01 02:00:00.000 +0200       17            1         9.377778   \n",
       "3  2006-04-01 03:00:00.000 +0200       19            1         8.288889   \n",
       "4  2006-04-01 04:00:00.000 +0200       17            1         8.755556   \n",
       "\n",
       "   Apparent Temperature (C)  Humidity  Wind Speed (km/h)  \\\n",
       "0                  7.388889      0.89            14.1197   \n",
       "1                  7.227778      0.86            14.2646   \n",
       "2                  9.377778      0.89             3.9284   \n",
       "3                  5.944444      0.83            14.1036   \n",
       "4                  6.977778      0.83            11.0446   \n",
       "\n",
       "   Wind Bearing (degrees)  Visibility (km)  Loud Cover  Pressure (millibars)  \\\n",
       "0                   251.0          15.8263         0.0               1015.13   \n",
       "1                   259.0          15.8263         0.0               1015.63   \n",
       "2                   204.0          14.9569         0.0               1015.94   \n",
       "3                   269.0          15.8263         0.0               1016.41   \n",
       "4                   259.0          15.8263         0.0               1016.51   \n",
       "\n",
       "                       Daily Summary  \n",
       "0  Partly cloudy throughout the day.  \n",
       "1  Partly cloudy throughout the day.  \n",
       "2  Partly cloudy throughout the day.  \n",
       "3  Partly cloudy throughout the day.  \n",
       "4  Partly cloudy throughout the day.  "
      ]
     },
     "execution_count": 53,
     "metadata": {},
     "output_type": "execute_result"
    }
   ],
   "source": [
    "df.head()"
   ]
  },
  {
   "cell_type": "code",
   "execution_count": 54,
   "id": "3de4a6e6",
   "metadata": {
    "editable": false,
    "execution": {
     "iopub.execute_input": "2023-10-11T02:06:21.046784Z",
     "iopub.status.busy": "2023-10-11T02:06:21.046449Z",
     "iopub.status.idle": "2023-10-11T02:06:21.058989Z",
     "shell.execute_reply": "2023-10-11T02:06:21.057900Z"
    },
    "papermill": {
     "duration": 0.02309,
     "end_time": "2023-10-11T02:06:21.061169",
     "exception": false,
     "start_time": "2023-10-11T02:06:21.038079",
     "status": "completed"
    },
    "tags": []
   },
   "outputs": [],
   "source": [
    "X = df.drop(['Formatted Date', 'Temperature (C)', 'Daily Summary'], axis = 1)\n",
    "y = df['Temperature (C)']"
   ]
  },
  {
   "cell_type": "code",
   "execution_count": 55,
   "id": "517edecb",
   "metadata": {
    "editable": false,
    "execution": {
     "iopub.execute_input": "2023-10-11T02:06:21.077820Z",
     "iopub.status.busy": "2023-10-11T02:06:21.077123Z",
     "iopub.status.idle": "2023-10-11T02:06:21.083134Z",
     "shell.execute_reply": "2023-10-11T02:06:21.082395Z"
    },
    "papermill": {
     "duration": 0.016255,
     "end_time": "2023-10-11T02:06:21.084874",
     "exception": false,
     "start_time": "2023-10-11T02:06:21.068619",
     "status": "completed"
    },
    "tags": []
   },
   "outputs": [
    {
     "data": {
      "text/plain": [
       "Index(['Summary', 'Precip Type', 'Apparent Temperature (C)', 'Humidity',\n",
       "       'Wind Speed (km/h)', 'Wind Bearing (degrees)', 'Visibility (km)',\n",
       "       'Loud Cover', 'Pressure (millibars)'],\n",
       "      dtype='object')"
      ]
     },
     "execution_count": 55,
     "metadata": {},
     "output_type": "execute_result"
    }
   ],
   "source": [
    "X.columns"
   ]
  },
  {
   "cell_type": "code",
   "execution_count": 56,
   "id": "c32ab6f0",
   "metadata": {
    "editable": false,
    "execution": {
     "iopub.execute_input": "2023-10-11T02:06:21.101834Z",
     "iopub.status.busy": "2023-10-11T02:06:21.101296Z",
     "iopub.status.idle": "2023-10-11T02:06:21.107951Z",
     "shell.execute_reply": "2023-10-11T02:06:21.107216Z"
    },
    "papermill": {
     "duration": 0.016997,
     "end_time": "2023-10-11T02:06:21.109684",
     "exception": false,
     "start_time": "2023-10-11T02:06:21.092687",
     "status": "completed"
    },
    "tags": []
   },
   "outputs": [
    {
     "data": {
      "text/plain": [
       "0    9.472222\n",
       "1    9.355556\n",
       "2    9.377778\n",
       "3    8.288889\n",
       "4    8.755556\n",
       "Name: Temperature (C), dtype: float64"
      ]
     },
     "execution_count": 56,
     "metadata": {},
     "output_type": "execute_result"
    }
   ],
   "source": [
    "y.head()"
   ]
  },
  {
   "cell_type": "code",
   "execution_count": 57,
   "id": "372db286",
   "metadata": {
    "editable": false,
    "execution": {
     "iopub.execute_input": "2023-10-11T02:06:21.126588Z",
     "iopub.status.busy": "2023-10-11T02:06:21.126007Z",
     "iopub.status.idle": "2023-10-11T02:06:21.150189Z",
     "shell.execute_reply": "2023-10-11T02:06:21.148950Z"
    },
    "papermill": {
     "duration": 0.035375,
     "end_time": "2023-10-11T02:06:21.152649",
     "exception": false,
     "start_time": "2023-10-11T02:06:21.117274",
     "status": "completed"
    },
    "tags": []
   },
   "outputs": [],
   "source": [
    "from sklearn.preprocessing import MinMaxScaler\n",
    "ms = MinMaxScaler()\n",
    "X = ms.fit_transform(X)"
   ]
  },
  {
   "cell_type": "code",
   "execution_count": 58,
   "id": "26ef968f",
   "metadata": {
    "editable": false,
    "execution": {
     "iopub.execute_input": "2023-10-11T02:06:21.170855Z",
     "iopub.status.busy": "2023-10-11T02:06:21.170514Z",
     "iopub.status.idle": "2023-10-11T02:06:21.278708Z",
     "shell.execute_reply": "2023-10-11T02:06:21.277707Z"
    },
    "papermill": {
     "duration": 0.120001,
     "end_time": "2023-10-11T02:06:21.281069",
     "exception": false,
     "start_time": "2023-10-11T02:06:21.161068",
     "status": "completed"
    },
    "tags": []
   },
   "outputs": [],
   "source": [
    "from sklearn.model_selection import train_test_split\n",
    "Xtrain, Xtest, ytrain, ytest = train_test_split(X,y, test_size = 0.2, random_state = 123)"
   ]
  },
  {
   "cell_type": "code",
   "execution_count": 59,
   "id": "275f5716",
   "metadata": {
    "editable": false,
    "execution": {
     "iopub.execute_input": "2023-10-11T02:06:21.298443Z",
     "iopub.status.busy": "2023-10-11T02:06:21.297482Z",
     "iopub.status.idle": "2023-10-11T02:06:21.303415Z",
     "shell.execute_reply": "2023-10-11T02:06:21.302157Z"
    },
    "papermill": {
     "duration": 0.016467,
     "end_time": "2023-10-11T02:06:21.305229",
     "exception": false,
     "start_time": "2023-10-11T02:06:21.288762",
     "status": "completed"
    },
    "tags": []
   },
   "outputs": [
    {
     "name": "stdout",
     "output_type": "stream",
     "text": [
      "X training set shape  (77162, 9)\n",
      "X testing set shape  (19291, 9)\n",
      "y training set shape  (77162,)\n",
      "y testing set shape  (19291,)\n"
     ]
    }
   ],
   "source": [
    "print('X training set shape ', Xtrain.shape)\n",
    "print('X testing set shape ', Xtest.shape)\n",
    "print('y training set shape ', ytrain.shape)\n",
    "print('y testing set shape ', ytest.shape)"
   ]
  },
  {
   "cell_type": "code",
   "execution_count": 60,
   "id": "179d91a8",
   "metadata": {
    "editable": false,
    "execution": {
     "iopub.execute_input": "2023-10-11T02:06:21.322681Z",
     "iopub.status.busy": "2023-10-11T02:06:21.321740Z",
     "iopub.status.idle": "2023-10-11T02:06:29.469386Z",
     "shell.execute_reply": "2023-10-11T02:06:29.468386Z"
    },
    "papermill": {
     "duration": 8.158738,
     "end_time": "2023-10-11T02:06:29.471729",
     "exception": false,
     "start_time": "2023-10-11T02:06:21.312991",
     "status": "completed"
    },
    "tags": []
   },
   "outputs": [],
   "source": [
    "from tensorflow.keras.models import Sequential\n",
    "from tensorflow.keras.layers import Dense\n",
    "\n",
    "\n"
   ]
  },
  {
   "cell_type": "code",
   "execution_count": 61,
   "id": "4c9eb6cd",
   "metadata": {
    "editable": false,
    "execution": {
     "iopub.execute_input": "2023-10-11T02:06:29.489633Z",
     "iopub.status.busy": "2023-10-11T02:06:29.488626Z",
     "iopub.status.idle": "2023-10-11T02:06:29.664627Z",
     "shell.execute_reply": "2023-10-11T02:06:29.663467Z"
    },
    "papermill": {
     "duration": 0.187284,
     "end_time": "2023-10-11T02:06:29.667013",
     "exception": false,
     "start_time": "2023-10-11T02:06:29.479729",
     "status": "completed"
    },
    "tags": []
   },
   "outputs": [],
   "source": [
    "model=Sequential()\n",
    "#hidden layer\n",
    "model.add(Dense(128,input_dim=9,activation='relu'))\n",
    "model.add(Dense(64,activation='relu'))"
   ]
  },
  {
   "cell_type": "code",
   "execution_count": 62,
   "id": "1bf34548",
   "metadata": {
    "editable": false,
    "execution": {
     "iopub.execute_input": "2023-10-11T02:06:29.684647Z",
     "iopub.status.busy": "2023-10-11T02:06:29.683809Z",
     "iopub.status.idle": "2023-10-11T02:06:29.703410Z",
     "shell.execute_reply": "2023-10-11T02:06:29.702444Z"
    },
    "papermill": {
     "duration": 0.030769,
     "end_time": "2023-10-11T02:06:29.705772",
     "exception": false,
     "start_time": "2023-10-11T02:06:29.675003",
     "status": "completed"
    },
    "tags": []
   },
   "outputs": [],
   "source": [
    "model.add(Dense(1,activation='linear'))"
   ]
  },
  {
   "cell_type": "code",
   "execution_count": 63,
   "id": "84b04e8e",
   "metadata": {
    "editable": false,
    "execution": {
     "iopub.execute_input": "2023-10-11T02:06:29.723270Z",
     "iopub.status.busy": "2023-10-11T02:06:29.722580Z",
     "iopub.status.idle": "2023-10-11T02:06:29.739822Z",
     "shell.execute_reply": "2023-10-11T02:06:29.738992Z"
    },
    "papermill": {
     "duration": 0.028299,
     "end_time": "2023-10-11T02:06:29.742046",
     "exception": false,
     "start_time": "2023-10-11T02:06:29.713747",
     "status": "completed"
    },
    "tags": []
   },
   "outputs": [],
   "source": [
    "model.compile(loss='mean_squared_error',optimizer='Adam',metrics=['mae'])"
   ]
  },
  {
   "cell_type": "code",
   "execution_count": 64,
   "id": "e556e2db",
   "metadata": {
    "editable": false,
    "execution": {
     "iopub.execute_input": "2023-10-11T02:06:29.760901Z",
     "iopub.status.busy": "2023-10-11T02:06:29.760169Z",
     "iopub.status.idle": "2023-10-11T02:06:29.780872Z",
     "shell.execute_reply": "2023-10-11T02:06:29.779691Z"
    },
    "papermill": {
     "duration": 0.033247,
     "end_time": "2023-10-11T02:06:29.784507",
     "exception": false,
     "start_time": "2023-10-11T02:06:29.751260",
     "status": "completed"
    },
    "tags": []
   },
   "outputs": [
    {
     "name": "stdout",
     "output_type": "stream",
     "text": [
      "Model: \"sequential_1\"\n",
      "_________________________________________________________________\n",
      " Layer (type)                Output Shape              Param #   \n",
      "=================================================================\n",
      " dense_2 (Dense)             (None, 128)               1280      \n",
      "                                                                 \n",
      " dense_3 (Dense)             (None, 64)                8256      \n",
      "                                                                 \n",
      " dense_4 (Dense)             (None, 1)                 65        \n",
      "                                                                 \n",
      "=================================================================\n",
      "Total params: 9601 (37.50 KB)\n",
      "Trainable params: 9601 (37.50 KB)\n",
      "Non-trainable params: 0 (0.00 Byte)\n",
      "_________________________________________________________________\n"
     ]
    }
   ],
   "source": [
    "model.summary()"
   ]
  },
  {
   "cell_type": "code",
   "execution_count": 65,
   "id": "c3380ff8",
   "metadata": {
    "editable": false,
    "execution": {
     "iopub.execute_input": "2023-10-11T02:06:29.802835Z",
     "iopub.status.busy": "2023-10-11T02:06:29.802480Z",
     "iopub.status.idle": "2023-10-11T02:07:51.451551Z",
     "shell.execute_reply": "2023-10-11T02:07:51.450420Z"
    },
    "papermill": {
     "duration": 81.661135,
     "end_time": "2023-10-11T02:07:51.454005",
     "exception": false,
     "start_time": "2023-10-11T02:06:29.792870",
     "status": "completed"
    },
    "tags": []
   },
   "outputs": [
    {
     "name": "stdout",
     "output_type": "stream",
     "text": [
      "Epoch 1/20\n",
      "2412/2412 [==============================] - 6s 2ms/step - loss: 7.9119 - mae: 1.2361 - val_loss: 0.2337 - val_mae: 0.3395\n",
      "Epoch 2/20\n",
      "2412/2412 [==============================] - 5s 2ms/step - loss: 0.2150 - mae: 0.3384 - val_loss: 0.1540 - val_mae: 0.2825\n",
      "Epoch 3/20\n",
      "2412/2412 [==============================] - 5s 2ms/step - loss: 0.1635 - mae: 0.2930 - val_loss: 0.1151 - val_mae: 0.2295\n",
      "Epoch 4/20\n",
      "2412/2412 [==============================] - 5s 2ms/step - loss: 0.1354 - mae: 0.2609 - val_loss: 0.0975 - val_mae: 0.2000\n",
      "Epoch 5/20\n",
      "2412/2412 [==============================] - 5s 2ms/step - loss: 0.1173 - mae: 0.2405 - val_loss: 0.0944 - val_mae: 0.2027\n",
      "Epoch 6/20\n",
      "2412/2412 [==============================] - 5s 2ms/step - loss: 0.1067 - mae: 0.2305 - val_loss: 0.0916 - val_mae: 0.2107\n",
      "Epoch 7/20\n",
      "2412/2412 [==============================] - 5s 2ms/step - loss: 0.0952 - mae: 0.2156 - val_loss: 0.0689 - val_mae: 0.1601\n",
      "Epoch 8/20\n",
      "2412/2412 [==============================] - 5s 2ms/step - loss: 0.0840 - mae: 0.2043 - val_loss: 0.0651 - val_mae: 0.1673\n",
      "Epoch 9/20\n",
      "2412/2412 [==============================] - 5s 2ms/step - loss: 0.0726 - mae: 0.1868 - val_loss: 0.0671 - val_mae: 0.1987\n",
      "Epoch 10/20\n",
      "2412/2412 [==============================] - 5s 2ms/step - loss: 0.0636 - mae: 0.1750 - val_loss: 0.0519 - val_mae: 0.1554\n",
      "Epoch 11/20\n",
      "2412/2412 [==============================] - 5s 2ms/step - loss: 0.0553 - mae: 0.1634 - val_loss: 0.0415 - val_mae: 0.1493\n",
      "Epoch 12/20\n",
      "2412/2412 [==============================] - 5s 2ms/step - loss: 0.0477 - mae: 0.1506 - val_loss: 0.0620 - val_mae: 0.2003\n",
      "Epoch 13/20\n",
      "2412/2412 [==============================] - 5s 2ms/step - loss: 0.0441 - mae: 0.1446 - val_loss: 0.0321 - val_mae: 0.1111\n",
      "Epoch 14/20\n",
      "2412/2412 [==============================] - 5s 2ms/step - loss: 0.0404 - mae: 0.1385 - val_loss: 0.0447 - val_mae: 0.1657\n",
      "Epoch 15/20\n",
      "2412/2412 [==============================] - 5s 2ms/step - loss: 0.0372 - mae: 0.1316 - val_loss: 0.0276 - val_mae: 0.1037\n",
      "Epoch 16/20\n",
      "2412/2412 [==============================] - 5s 2ms/step - loss: 0.0349 - mae: 0.1269 - val_loss: 0.0424 - val_mae: 0.1576\n",
      "Epoch 17/20\n",
      "2412/2412 [==============================] - 5s 2ms/step - loss: 0.0344 - mae: 0.1274 - val_loss: 0.0222 - val_mae: 0.0874\n",
      "Epoch 18/20\n",
      "2412/2412 [==============================] - 5s 2ms/step - loss: 0.0324 - mae: 0.1229 - val_loss: 0.0250 - val_mae: 0.1019\n",
      "Epoch 19/20\n",
      "2412/2412 [==============================] - 5s 2ms/step - loss: 0.0307 - mae: 0.1192 - val_loss: 0.0205 - val_mae: 0.0835\n",
      "Epoch 20/20\n",
      "2412/2412 [==============================] - 5s 2ms/step - loss: 0.0287 - mae: 0.1143 - val_loss: 0.0356 - val_mae: 0.1512\n"
     ]
    }
   ],
   "source": [
    "model_history = model.fit(Xtrain,ytrain,validation_data=[Xtest,ytest],epochs=20)"
   ]
  },
  {
   "cell_type": "code",
   "execution_count": 66,
   "id": "19520055",
   "metadata": {
    "editable": false,
    "execution": {
     "iopub.execute_input": "2023-10-11T02:07:51.612154Z",
     "iopub.status.busy": "2023-10-11T02:07:51.611794Z",
     "iopub.status.idle": "2023-10-11T02:07:52.361013Z",
     "shell.execute_reply": "2023-10-11T02:07:52.360088Z"
    },
    "papermill": {
     "duration": 0.830672,
     "end_time": "2023-10-11T02:07:52.363064",
     "exception": false,
     "start_time": "2023-10-11T02:07:51.532392",
     "status": "completed"
    },
    "tags": []
   },
   "outputs": [
    {
     "name": "stdout",
     "output_type": "stream",
     "text": [
      "603/603 [==============================] - 1s 1ms/step - loss: 0.0356 - mae: 0.1512\n",
      "0.035644400864839554\n",
      "0.15119661390781403\n"
     ]
    }
   ],
   "source": [
    "mse_ann,mae_ann=model.evaluate(Xtest,ytest)\n",
    "print(mse_ann)\n",
    "print(mae_ann)"
   ]
  },
  {
   "cell_type": "code",
   "execution_count": 67,
   "id": "91e36d29",
   "metadata": {
    "editable": false,
    "execution": {
     "iopub.execute_input": "2023-10-11T02:07:52.525607Z",
     "iopub.status.busy": "2023-10-11T02:07:52.525224Z",
     "iopub.status.idle": "2023-10-11T02:13:14.660003Z",
     "shell.execute_reply": "2023-10-11T02:13:14.659220Z"
    },
    "papermill": {
     "duration": 322.220192,
     "end_time": "2023-10-11T02:13:14.662159",
     "exception": false,
     "start_time": "2023-10-11T02:07:52.441967",
     "status": "completed"
    },
    "tags": []
   },
   "outputs": [
    {
     "name": "stdout",
     "output_type": "stream",
     "text": [
      "Epoch 1/20\n",
      "9646/9646 [==============================] - 21s 2ms/step - loss: 0.0540 - mae: 0.1678 - val_loss: 0.0332 - val_mae: 0.1195\n",
      "Epoch 2/20\n",
      "9646/9646 [==============================] - 21s 2ms/step - loss: 0.0481 - mae: 0.1585 - val_loss: 0.0410 - val_mae: 0.1619\n",
      "Epoch 3/20\n",
      "9646/9646 [==============================] - 21s 2ms/step - loss: 0.0460 - mae: 0.1532 - val_loss: 0.0347 - val_mae: 0.1201\n",
      "Epoch 4/20\n",
      "9646/9646 [==============================] - 21s 2ms/step - loss: 0.0414 - mae: 0.1446 - val_loss: 0.0558 - val_mae: 0.1882\n",
      "Epoch 5/20\n",
      "9646/9646 [==============================] - 21s 2ms/step - loss: 0.0405 - mae: 0.1418 - val_loss: 0.0250 - val_mae: 0.1194\n",
      "Epoch 6/20\n",
      "9646/9646 [==============================] - 21s 2ms/step - loss: 0.0378 - mae: 0.1366 - val_loss: 0.0448 - val_mae: 0.1778\n",
      "Epoch 7/20\n",
      "9646/9646 [==============================] - 21s 2ms/step - loss: 0.0369 - mae: 0.1355 - val_loss: 0.0189 - val_mae: 0.0776\n",
      "Epoch 8/20\n",
      "9646/9646 [==============================] - 21s 2ms/step - loss: 0.0358 - mae: 0.1320 - val_loss: 0.0863 - val_mae: 0.2695\n",
      "Epoch 9/20\n",
      "9646/9646 [==============================] - 21s 2ms/step - loss: 0.0340 - mae: 0.1288 - val_loss: 0.0509 - val_mae: 0.1977\n",
      "Epoch 10/20\n",
      "9646/9646 [==============================] - 21s 2ms/step - loss: 0.0329 - mae: 0.1257 - val_loss: 0.0787 - val_mae: 0.2026\n",
      "Epoch 11/20\n",
      "9646/9646 [==============================] - 21s 2ms/step - loss: 0.0320 - mae: 0.1246 - val_loss: 0.0237 - val_mae: 0.1039\n",
      "Epoch 12/20\n",
      "9646/9646 [==============================] - 21s 2ms/step - loss: 0.0310 - mae: 0.1207 - val_loss: 0.0149 - val_mae: 0.0687\n",
      "Epoch 13/20\n",
      "9646/9646 [==============================] - 21s 2ms/step - loss: 0.0292 - mae: 0.1175 - val_loss: 0.0226 - val_mae: 0.1008\n",
      "Epoch 14/20\n",
      "9646/9646 [==============================] - 21s 2ms/step - loss: 0.0289 - mae: 0.1167 - val_loss: 0.0224 - val_mae: 0.0989\n",
      "Epoch 15/20\n",
      "9646/9646 [==============================] - 20s 2ms/step - loss: 0.0282 - mae: 0.1150 - val_loss: 0.0170 - val_mae: 0.0778\n",
      "Epoch 16/20\n",
      "9646/9646 [==============================] - 21s 2ms/step - loss: 0.0269 - mae: 0.1119 - val_loss: 0.0142 - val_mae: 0.0609\n",
      "Epoch 17/20\n",
      "9646/9646 [==============================] - 21s 2ms/step - loss: 0.0267 - mae: 0.1104 - val_loss: 0.0199 - val_mae: 0.0915\n",
      "Epoch 18/20\n",
      "9646/9646 [==============================] - 20s 2ms/step - loss: 0.0264 - mae: 0.1099 - val_loss: 0.0556 - val_mae: 0.1811\n",
      "Epoch 19/20\n",
      "9646/9646 [==============================] - 92s 10ms/step - loss: 0.0256 - mae: 0.1072 - val_loss: 0.0229 - val_mae: 0.1236\n",
      "Epoch 20/20\n",
      "9646/9646 [==============================] - 21s 2ms/step - loss: 0.0246 - mae: 0.1054 - val_loss: 0.0121 - val_mae: 0.0549\n"
     ]
    }
   ],
   "source": [
    "model_history1 = model.fit(Xtrain,ytrain,validation_data=[Xtest,ytest],epochs=20,batch_size=8)"
   ]
  },
  {
   "cell_type": "code",
   "execution_count": 68,
   "id": "20107843",
   "metadata": {
    "editable": false,
    "execution": {
     "iopub.execute_input": "2023-10-11T02:13:15.435764Z",
     "iopub.status.busy": "2023-10-11T02:13:15.435417Z",
     "iopub.status.idle": "2023-10-11T02:13:16.181298Z",
     "shell.execute_reply": "2023-10-11T02:13:16.180163Z"
    },
    "papermill": {
     "duration": 1.102629,
     "end_time": "2023-10-11T02:13:16.183486",
     "exception": false,
     "start_time": "2023-10-11T02:13:15.080857",
     "status": "completed"
    },
    "tags": []
   },
   "outputs": [
    {
     "name": "stdout",
     "output_type": "stream",
     "text": [
      "603/603 [==============================] - 1s 2ms/step - loss: 0.0121 - mae: 0.0549\n",
      "0.01210453175008297\n",
      "0.05493997409939766\n"
     ]
    }
   ],
   "source": [
    "mse_ann,mae_ann=model.evaluate(Xtest,ytest)\n",
    "print(mse_ann)\n",
    "print(mae_ann)"
   ]
  },
  {
   "cell_type": "code",
   "execution_count": 69,
   "id": "8ba8eb3c",
   "metadata": {
    "editable": false,
    "execution": {
     "iopub.execute_input": "2023-10-11T02:13:16.889034Z",
     "iopub.status.busy": "2023-10-11T02:13:16.888675Z",
     "iopub.status.idle": "2023-10-11T02:13:17.034999Z",
     "shell.execute_reply": "2023-10-11T02:13:17.034283Z"
    },
    "papermill": {
     "duration": 0.502073,
     "end_time": "2023-10-11T02:13:17.036750",
     "exception": false,
     "start_time": "2023-10-11T02:13:16.534677",
     "status": "completed"
    },
    "tags": []
   },
   "outputs": [
    {
     "name": "stdout",
     "output_type": "stream",
     "text": [
      "1/1 [==============================] - 0s 116ms/step\n",
      " [[-1.7905251]\n",
      " [18.848082 ]\n",
      " [ 7.829714 ]\n",
      " [ 2.85999  ]\n",
      " [-2.1301503]]\n",
      " 66891    -1.716667\n",
      "78134    18.872222\n",
      "16639     7.894444\n",
      "75386     2.833333\n",
      "63846    -2.222222\n",
      "Name: Temperature (C), dtype: float64\n"
     ]
    }
   ],
   "source": [
    "predictions=model.predict(Xtest[:5])\n",
    "print(\"\",predictions)\n",
    "print(\"\",ytest[:5])"
   ]
  },
  {
   "cell_type": "code",
   "execution_count": 70,
   "id": "b96349f5",
   "metadata": {
    "editable": false,
    "execution": {
     "iopub.execute_input": "2023-10-11T02:13:17.807592Z",
     "iopub.status.busy": "2023-10-11T02:13:17.806482Z",
     "iopub.status.idle": "2023-10-11T02:13:26.000304Z",
     "shell.execute_reply": "2023-10-11T02:13:25.999228Z"
    },
    "papermill": {
     "duration": 8.550614,
     "end_time": "2023-10-11T02:13:26.002587",
     "exception": false,
     "start_time": "2023-10-11T02:13:17.451973",
     "status": "completed"
    },
    "tags": []
   },
   "outputs": [
    {
     "name": "stdout",
     "output_type": "stream",
     "text": [
      "Epoch 1/20\n",
      "59/59 [==============================] - 0s 5ms/step - loss: 0.0106 - mae: 0.0450 - val_loss: 0.0085 - val_mae: 0.0381\n",
      "Epoch 2/20\n",
      "59/59 [==============================] - 0s 4ms/step - loss: 0.0096 - mae: 0.0396 - val_loss: 0.0083 - val_mae: 0.0371\n",
      "Epoch 3/20\n",
      "59/59 [==============================] - 0s 4ms/step - loss: 0.0095 - mae: 0.0388 - val_loss: 0.0082 - val_mae: 0.0367\n",
      "Epoch 4/20\n",
      "59/59 [==============================] - 0s 4ms/step - loss: 0.0094 - mae: 0.0388 - val_loss: 0.0082 - val_mae: 0.0363\n",
      "Epoch 5/20\n",
      "59/59 [==============================] - 0s 4ms/step - loss: 0.0094 - mae: 0.0386 - val_loss: 0.0082 - val_mae: 0.0366\n",
      "Epoch 6/20\n",
      "59/59 [==============================] - 0s 4ms/step - loss: 0.0093 - mae: 0.0387 - val_loss: 0.0081 - val_mae: 0.0366\n",
      "Epoch 7/20\n",
      "59/59 [==============================] - 0s 4ms/step - loss: 0.0093 - mae: 0.0387 - val_loss: 0.0081 - val_mae: 0.0363\n",
      "Epoch 8/20\n",
      "59/59 [==============================] - 0s 4ms/step - loss: 0.0093 - mae: 0.0387 - val_loss: 0.0082 - val_mae: 0.0385\n",
      "Epoch 9/20\n",
      "59/59 [==============================] - 0s 4ms/step - loss: 0.0093 - mae: 0.0385 - val_loss: 0.0080 - val_mae: 0.0359\n",
      "Epoch 10/20\n",
      "59/59 [==============================] - 0s 4ms/step - loss: 0.0092 - mae: 0.0381 - val_loss: 0.0080 - val_mae: 0.0362\n",
      "Epoch 11/20\n",
      "59/59 [==============================] - 0s 4ms/step - loss: 0.0092 - mae: 0.0383 - val_loss: 0.0080 - val_mae: 0.0362\n",
      "Epoch 12/20\n",
      "59/59 [==============================] - 0s 4ms/step - loss: 0.0092 - mae: 0.0381 - val_loss: 0.0080 - val_mae: 0.0361\n",
      "Epoch 13/20\n",
      "59/59 [==============================] - 0s 4ms/step - loss: 0.0092 - mae: 0.0384 - val_loss: 0.0080 - val_mae: 0.0362\n",
      "Epoch 14/20\n",
      "59/59 [==============================] - 0s 4ms/step - loss: 0.0092 - mae: 0.0388 - val_loss: 0.0080 - val_mae: 0.0356\n",
      "Epoch 15/20\n",
      "59/59 [==============================] - 0s 4ms/step - loss: 0.0091 - mae: 0.0380 - val_loss: 0.0079 - val_mae: 0.0355\n",
      "Epoch 16/20\n",
      "59/59 [==============================] - 0s 4ms/step - loss: 0.0091 - mae: 0.0380 - val_loss: 0.0079 - val_mae: 0.0358\n",
      "Epoch 17/20\n",
      "59/59 [==============================] - 0s 4ms/step - loss: 0.0091 - mae: 0.0381 - val_loss: 0.0079 - val_mae: 0.0357\n",
      "Epoch 18/20\n",
      "59/59 [==============================] - 0s 4ms/step - loss: 0.0091 - mae: 0.0379 - val_loss: 0.0079 - val_mae: 0.0356\n",
      "Epoch 19/20\n",
      "59/59 [==============================] - 0s 4ms/step - loss: 0.0091 - mae: 0.0379 - val_loss: 0.0079 - val_mae: 0.0360\n",
      "Epoch 20/20\n",
      "59/59 [==============================] - 0s 4ms/step - loss: 0.0091 - mae: 0.0381 - val_loss: 0.0079 - val_mae: 0.0356\n"
     ]
    }
   ],
   "source": [
    "model_history2 = model.fit(Xtrain,ytrain,validation_data=[Xtest,ytest],epochs=20,batch_size=328*4)"
   ]
  },
  {
   "cell_type": "code",
   "execution_count": 71,
   "id": "9beb36b1",
   "metadata": {
    "editable": false,
    "execution": {
     "iopub.execute_input": "2023-10-11T02:13:26.726128Z",
     "iopub.status.busy": "2023-10-11T02:13:26.725170Z",
     "iopub.status.idle": "2023-10-11T02:13:27.454319Z",
     "shell.execute_reply": "2023-10-11T02:13:27.453250Z"
    },
    "papermill": {
     "duration": 1.094474,
     "end_time": "2023-10-11T02:13:27.456530",
     "exception": false,
     "start_time": "2023-10-11T02:13:26.362056",
     "status": "completed"
    },
    "tags": []
   },
   "outputs": [
    {
     "name": "stdout",
     "output_type": "stream",
     "text": [
      "603/603 [==============================] - 1s 2ms/step - loss: 0.0079 - mae: 0.0356\n",
      "0.007853527553379536\n",
      "0.035604462027549744\n"
     ]
    }
   ],
   "source": [
    "mse_ann,mae_ann=model.evaluate(Xtest,ytest)\n",
    "print(mse_ann)\n",
    "print(mae_ann)"
   ]
  },
  {
   "cell_type": "code",
   "execution_count": 72,
   "id": "32e73969",
   "metadata": {
    "editable": false,
    "execution": {
     "iopub.execute_input": "2023-10-11T02:13:28.248884Z",
     "iopub.status.busy": "2023-10-11T02:13:28.247996Z",
     "iopub.status.idle": "2023-10-11T02:13:28.352661Z",
     "shell.execute_reply": "2023-10-11T02:13:28.351621Z"
    },
    "papermill": {
     "duration": 0.469781,
     "end_time": "2023-10-11T02:13:28.355084",
     "exception": false,
     "start_time": "2023-10-11T02:13:27.885303",
     "status": "completed"
    },
    "tags": []
   },
   "outputs": [],
   "source": [
    "from sklearn import linear_model\n",
    "from sklearn.metrics import mean_squared_error,mean_absolute_error,r2_score"
   ]
  },
  {
   "cell_type": "code",
   "execution_count": 73,
   "id": "cb74cc9a",
   "metadata": {
    "editable": false,
    "execution": {
     "iopub.execute_input": "2023-10-11T02:13:29.144213Z",
     "iopub.status.busy": "2023-10-11T02:13:29.143814Z",
     "iopub.status.idle": "2023-10-11T02:13:29.206295Z",
     "shell.execute_reply": "2023-10-11T02:13:29.205559Z"
    },
    "papermill": {
     "duration": 0.490081,
     "end_time": "2023-10-11T02:13:29.209375",
     "exception": false,
     "start_time": "2023-10-11T02:13:28.719294",
     "status": "completed"
    },
    "tags": []
   },
   "outputs": [
    {
     "data": {
      "text/html": [
       "<style>#sk-container-id-1 {color: black;}#sk-container-id-1 pre{padding: 0;}#sk-container-id-1 div.sk-toggleable {background-color: white;}#sk-container-id-1 label.sk-toggleable__label {cursor: pointer;display: block;width: 100%;margin-bottom: 0;padding: 0.3em;box-sizing: border-box;text-align: center;}#sk-container-id-1 label.sk-toggleable__label-arrow:before {content: \"▸\";float: left;margin-right: 0.25em;color: #696969;}#sk-container-id-1 label.sk-toggleable__label-arrow:hover:before {color: black;}#sk-container-id-1 div.sk-estimator:hover label.sk-toggleable__label-arrow:before {color: black;}#sk-container-id-1 div.sk-toggleable__content {max-height: 0;max-width: 0;overflow: hidden;text-align: left;background-color: #f0f8ff;}#sk-container-id-1 div.sk-toggleable__content pre {margin: 0.2em;color: black;border-radius: 0.25em;background-color: #f0f8ff;}#sk-container-id-1 input.sk-toggleable__control:checked~div.sk-toggleable__content {max-height: 200px;max-width: 100%;overflow: auto;}#sk-container-id-1 input.sk-toggleable__control:checked~label.sk-toggleable__label-arrow:before {content: \"▾\";}#sk-container-id-1 div.sk-estimator input.sk-toggleable__control:checked~label.sk-toggleable__label {background-color: #d4ebff;}#sk-container-id-1 div.sk-label input.sk-toggleable__control:checked~label.sk-toggleable__label {background-color: #d4ebff;}#sk-container-id-1 input.sk-hidden--visually {border: 0;clip: rect(1px 1px 1px 1px);clip: rect(1px, 1px, 1px, 1px);height: 1px;margin: -1px;overflow: hidden;padding: 0;position: absolute;width: 1px;}#sk-container-id-1 div.sk-estimator {font-family: monospace;background-color: #f0f8ff;border: 1px dotted black;border-radius: 0.25em;box-sizing: border-box;margin-bottom: 0.5em;}#sk-container-id-1 div.sk-estimator:hover {background-color: #d4ebff;}#sk-container-id-1 div.sk-parallel-item::after {content: \"\";width: 100%;border-bottom: 1px solid gray;flex-grow: 1;}#sk-container-id-1 div.sk-label:hover label.sk-toggleable__label {background-color: #d4ebff;}#sk-container-id-1 div.sk-serial::before {content: \"\";position: absolute;border-left: 1px solid gray;box-sizing: border-box;top: 0;bottom: 0;left: 50%;z-index: 0;}#sk-container-id-1 div.sk-serial {display: flex;flex-direction: column;align-items: center;background-color: white;padding-right: 0.2em;padding-left: 0.2em;position: relative;}#sk-container-id-1 div.sk-item {position: relative;z-index: 1;}#sk-container-id-1 div.sk-parallel {display: flex;align-items: stretch;justify-content: center;background-color: white;position: relative;}#sk-container-id-1 div.sk-item::before, #sk-container-id-1 div.sk-parallel-item::before {content: \"\";position: absolute;border-left: 1px solid gray;box-sizing: border-box;top: 0;bottom: 0;left: 50%;z-index: -1;}#sk-container-id-1 div.sk-parallel-item {display: flex;flex-direction: column;z-index: 1;position: relative;background-color: white;}#sk-container-id-1 div.sk-parallel-item:first-child::after {align-self: flex-end;width: 50%;}#sk-container-id-1 div.sk-parallel-item:last-child::after {align-self: flex-start;width: 50%;}#sk-container-id-1 div.sk-parallel-item:only-child::after {width: 0;}#sk-container-id-1 div.sk-dashed-wrapped {border: 1px dashed gray;margin: 0 0.4em 0.5em 0.4em;box-sizing: border-box;padding-bottom: 0.4em;background-color: white;}#sk-container-id-1 div.sk-label label {font-family: monospace;font-weight: bold;display: inline-block;line-height: 1.2em;}#sk-container-id-1 div.sk-label-container {text-align: center;}#sk-container-id-1 div.sk-container {/* jupyter's `normalize.less` sets `[hidden] { display: none; }` but bootstrap.min.css set `[hidden] { display: none !important; }` so we also need the `!important` here to be able to override the default hidden behavior on the sphinx rendered scikit-learn.org. See: https://github.com/scikit-learn/scikit-learn/issues/21755 */display: inline-block !important;position: relative;}#sk-container-id-1 div.sk-text-repr-fallback {display: none;}</style><div id=\"sk-container-id-1\" class=\"sk-top-container\"><div class=\"sk-text-repr-fallback\"><pre>LinearRegression()</pre><b>In a Jupyter environment, please rerun this cell to show the HTML representation or trust the notebook. <br />On GitHub, the HTML representation is unable to render, please try loading this page with nbviewer.org.</b></div><div class=\"sk-container\" hidden><div class=\"sk-item\"><div class=\"sk-estimator sk-toggleable\"><input class=\"sk-toggleable__control sk-hidden--visually\" id=\"sk-estimator-id-1\" type=\"checkbox\" checked><label for=\"sk-estimator-id-1\" class=\"sk-toggleable__label sk-toggleable__label-arrow\">LinearRegression</label><div class=\"sk-toggleable__content\"><pre>LinearRegression()</pre></div></div></div></div></div>"
      ],
      "text/plain": [
       "LinearRegression()"
      ]
     },
     "execution_count": 73,
     "metadata": {},
     "output_type": "execute_result"
    }
   ],
   "source": [
    "lr_model=linear_model.LinearRegression()\n",
    "lr_model.fit(Xtrain,ytrain)"
   ]
  },
  {
   "cell_type": "code",
   "execution_count": 74,
   "id": "5c32c3ad",
   "metadata": {
    "editable": false,
    "execution": {
     "iopub.execute_input": "2023-10-11T02:13:29.964579Z",
     "iopub.status.busy": "2023-10-11T02:13:29.964225Z",
     "iopub.status.idle": "2023-10-11T02:13:29.976018Z",
     "shell.execute_reply": "2023-10-11T02:13:29.974736Z"
    },
    "papermill": {
     "duration": 0.388821,
     "end_time": "2023-10-11T02:13:29.980585",
     "exception": false,
     "start_time": "2023-10-11T02:13:29.591764",
     "status": "completed"
    },
    "tags": []
   },
   "outputs": [
    {
     "name": "stdout",
     "output_type": "stream",
     "text": [
      "0.8865580329672574\n",
      "0.7393637417749909\n",
      "0.990199726395881\n"
     ]
    }
   ],
   "source": [
    "lr_pred=lr_model.predict(Xtest)\n",
    "mse_lr=mean_squared_error(ytest,lr_pred)\n",
    "mae_lr=mean_absolute_error(ytest,lr_pred)\n",
    "r2=r2_score(ytest,lr_pred)\n",
    "\n",
    "print(mse_lr)\n",
    "print(mae_lr)\n",
    "print(r2)\n"
   ]
  },
  {
   "cell_type": "code",
   "execution_count": null,
   "id": "f851f4df",
   "metadata": {
    "editable": false,
    "papermill": {
     "duration": 0.373256,
     "end_time": "2023-10-11T02:13:30.839146",
     "exception": false,
     "start_time": "2023-10-11T02:13:30.465890",
     "status": "completed"
    },
    "tags": []
   },
   "outputs": [],
   "source": []
  },
  {
   "cell_type": "code",
   "execution_count": null,
   "id": "054e6f39",
   "metadata": {
    "editable": false,
    "papermill": {
     "duration": 0.370993,
     "end_time": "2023-10-11T02:13:31.578664",
     "exception": false,
     "start_time": "2023-10-11T02:13:31.207671",
     "status": "completed"
    },
    "tags": []
   },
   "outputs": [],
   "source": []
  }
 ],
 "metadata": {
  "kernelspec": {
   "display_name": "Python 3 (ipykernel)",
   "language": "python",
   "name": "python3"
  },
  "language_info": {
   "codemirror_mode": {
    "name": "ipython",
    "version": 3
   },
   "file_extension": ".py",
   "mimetype": "text/x-python",
   "name": "python",
   "nbconvert_exporter": "python",
   "pygments_lexer": "ipython3",
   "version": "3.11.0"
  },
  "papermill": {
   "default_parameters": {},
   "duration": 438.463742,
   "end_time": "2023-10-11T02:13:33.638263",
   "environment_variables": {},
   "exception": null,
   "input_path": "__notebook__.ipynb",
   "output_path": "__notebook__.ipynb",
   "parameters": {},
   "start_time": "2023-10-11T02:06:15.174521",
   "version": "2.4.0"
  }
 },
 "nbformat": 4,
 "nbformat_minor": 5
}
